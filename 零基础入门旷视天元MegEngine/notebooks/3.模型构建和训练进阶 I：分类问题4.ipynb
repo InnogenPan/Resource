{
 "cells": [
  {
   "cell_type": "code",
   "execution_count": 1,
   "metadata": {},
   "outputs": [],
   "source": [
    "import megengine\n",
    "import megengine.data as data\n",
    "import megengine.data.transform as T\n",
    "import megengine.module as M\n",
    "import megengine.functional as F\n",
    "import megengine.optimizer as optimizer\n",
    "import megengine.jit as jit"
   ]
  },
  {
   "cell_type": "code",
   "execution_count": 3,
   "metadata": {},
   "outputs": [],
   "source": [
    "class BasicBlock(M.Module):\n",
    "    \"\"\"每个ResNet18的Block都包含两层卷积\"\"\"\n",
    "    def __init__(self, in_channels, out_channels, stride=1):\n",
    "        super(BasicBlock, self).__init__()\n",
    "        # 第一层卷积，接 BN 和 ReLU\n",
    "        self.conv1 = M.ConvBnRelu2d(\n",
    "            in_channels=in_channels, out_channels=out_channels,\n",
    "            kernel_size=3, stride=stride, padding=1)\n",
    "        # 第二层卷积，只接 BN\n",
    "        self.conv2 = M.ConvBn2d(\n",
    "            in_channels=out_channels, out_channels=out_channels,\n",
    "            kernel_size=3, stride=1, padding=1)\n",
    "        # 残差连接，当输入输出不一致/需要下采样时，用 ConvBn 实现变换\n",
    "        if in_channels == out_channels and stride == 1:\n",
    "            self.res_conn = M.Identity()\n",
    "        else:\n",
    "            self.res_conn = M.ConvBn2d(\n",
    "                in_channels=in_channels, out_channels=out_channels,\n",
    "                kernel_size=1, stride=stride)\n",
    "    \n",
    "    def forward(self, x):\n",
    "        identity = x\n",
    "        x = self.conv1(x)\n",
    "        x = self.conv2(x)\n",
    "        x = x + self.res_conn(identity)\n",
    "        return F.relu(x)"
   ]
  },
  {
   "cell_type": "code",
   "execution_count": 4,
   "metadata": {},
   "outputs": [],
   "source": [
    "class ResNet18(M.Module):\n",
    "    def __init__(self):\n",
    "        self.conv1 = M.ConvBnRelu2d(in_channels=3, out_channels=64,\n",
    "                                    kernel_size=3, padding=1)\n",
    "        # 8 个 BasicBlock，3 次下采样(stride=2)，共 8x2=16 层卷积\n",
    "        self.blocks = M.Sequential(\n",
    "            BasicBlock(64,  64),\n",
    "            BasicBlock(64,  64),\n",
    "            BasicBlock(64,  128, stride=2),\n",
    "            BasicBlock(128, 128),\n",
    "            BasicBlock(128, 256, stride=2),\n",
    "            BasicBlock(256, 256),\n",
    "            BasicBlock(256, 512, stride=2),\n",
    "            BasicBlock(512, 512),\n",
    "        )\n",
    "        # 全连接分类器，输出维度为 10 类的预测\n",
    "        self.classifier = M.Sequential(\n",
    "            M.Dropout(0.2),\n",
    "            M.Linear(512, 10)\n",
    "        )\n",
    "    \n",
    "    def forward(self, x):\n",
    "        # 1. 特征提取，输入为 Nx3x32x32 的图片，输出为 Nx512x4x4的张量(Tensor)\n",
    "        x = self.conv1(x)\n",
    "        x = self.blocks(x)\n",
    "        # 2. 4x4平均池化(Average Pooling)\n",
    "        x = F.avg_pool2d(x, 4)\n",
    "        x = F.flatten(x, 1)\n",
    "        # 3. 分类预测\n",
    "        x = self.classifier(x)\n",
    "        return x"
   ]
  },
  {
   "cell_type": "code",
   "execution_count": 22,
   "metadata": {},
   "outputs": [],
   "source": [
    "def testing():\n",
    "    # megengine内置CIFAR10的数据集(train=False)\n",
    "    dataset = data.dataset.CIFAR10(root=\"/data\", train=False)\n",
    "    \n",
    "    # 构造数据生产线\n",
    "    dataloader = data.DataLoader(\n",
    "        dataset,\n",
    "        # Random换成Sequential, drop_last=False不漏掉任何一张图片\n",
    "        sampler=data.SequentialSampler(dataset, batch_size=64, drop_last=False),\n",
    "        transform=T.Compose([\n",
    "            # T.RandomHorizontalFlip(),  测试的时候不进行数据增广\n",
    "            T.Normalize(mean=0., std=255.),  # f(x) = (x - mean) / std\n",
    "            T.ToMode(\"CHW\"),\n",
    "        ])\n",
    "    )\n",
    "    \n",
    "    # 构造网络与输入\n",
    "    model = ResNet18()\n",
    "    image = megengine.tensor(dtype=\"float32\")\n",
    "    label = megengine.tensor(dtype=\"int32\")\n",
    "    \n",
    "    state_dict = megengine.load(\"checkpoint.pkl\")\n",
    "    model.load_state_dict(state_dict)\n",
    "      \n",
    "    # 构造静态的计算图以充分发挥性能\n",
    "    @jit.trace\n",
    "    def test_func(image, label):\n",
    "        # 前传\n",
    "        loglikelihood = model(image)\n",
    "        accuracy = F.accuracy(loglikelihood, label)\n",
    "        return accuracy\n",
    "        \n",
    "    # 遍历一次测试数据集\n",
    "    correct = 0\n",
    "    for i, batch_data in enumerate(dataloader):\n",
    "        image.set_value(batch_data[0])\n",
    "        label.set_value(batch_data[1])\n",
    "\n",
    "        acc1 = test_func(image, label)\n",
    "        correct += acc1.item() * label.shape[0]\n",
    "        \n",
    "        if i % 50 == 0:\n",
    "            print(\"step\", i, \"acc@1\", acc1)\n",
    "    print(\"Final accuracy =\", correct / 10000 * 100, \"%\")"
   ]
  },
  {
   "cell_type": "code",
   "execution_count": 23,
   "metadata": {},
   "outputs": [
    {
     "name": "stdout",
     "output_type": "stream",
     "text": [
      "step 0 acc@1 Tensor([0.5938])\n",
      "step 50 acc@1 Tensor([0.6719])\n",
      "step 100 acc@1 Tensor([0.5938])\n",
      "step 150 acc@1 Tensor([0.7188])\n",
      "Final accuracy = 63.21 %\n"
     ]
    }
   ],
   "source": [
    "testing()"
   ]
  },
  {
   "cell_type": "code",
   "execution_count": null,
   "metadata": {},
   "outputs": [],
   "source": []
  }
 ],
 "metadata": {
  "kernelspec": {
   "display_name": "1GPU",
   "language": "python",
   "name": "1gpu"
  },
  "language_info": {
   "codemirror_mode": {
    "name": "ipython",
    "version": 3
   },
   "file_extension": ".py",
   "mimetype": "text/x-python",
   "name": "python",
   "nbconvert_exporter": "python",
   "pygments_lexer": "ipython3",
   "version": "3.6.9"
  }
 },
 "nbformat": 4,
 "nbformat_minor": 4
}
