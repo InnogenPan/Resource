{
 "cells": [
  {
   "cell_type": "code",
   "execution_count": 2,
   "metadata": {},
   "outputs": [],
   "source": [
    "import numpy as np\n",
    "\n",
    "\n",
    "def cpu_nms(dets, thresh):\n",
    "    x1 = np.ascontiguousarray(dets[:, 0])\n",
    "    y1 = np.ascontiguousarray(dets[:, 1])\n",
    "    x2 = np.ascontiguousarray(dets[:, 2])\n",
    "    y2 = np.ascontiguousarray(dets[:, 3])\n",
    "\n",
    "    areas = (x2 - x1) * (y2 - y1)\n",
    "    order = dets[:, 4].argsort()[::-1]\n",
    "    keep = list()\n",
    "\n",
    "    while order.size > 0:\n",
    "        pick_ind = order[0]\n",
    "        keep.append(pick_ind)\n",
    "\n",
    "        xx1 = np.maximum(x1[pick_ind], x1[order[1:]])\n",
    "        yy1 = np.maximum(y1[pick_ind], y1[order[1:]])\n",
    "        xx2 = np.minimum(x2[pick_ind], x2[order[1:]])\n",
    "        yy2 = np.minimum(y2[pick_ind], y2[order[1:]])\n",
    "\n",
    "        inter = np.maximum(0.0, xx2 - xx1) * np.maximum(0.0, yy2 - yy1)\n",
    "        iou = inter / (areas[pick_ind] + areas[order[1:]] - inter)\n",
    "\n",
    "        order = order[np.where(iou <= thresh)[0] + 1]\n",
    "\n",
    "    return keep"
   ]
  },
  {
   "cell_type": "code",
   "execution_count": 8,
   "metadata": {},
   "outputs": [
    {
     "name": "stdout",
     "output_type": "stream",
     "text": [
      "before nms:\n",
      " [[  11.5    12.    311.4   410.6     0.85]\n",
      " [   0.5     1.    300.4   400.5     0.97]\n",
      " [ 200.5   300.    700.4  1000.6     0.65]\n",
      " [ 250.5   310.    700.4  1000.6     0.72]]\n",
      "after nms:\n",
      " [[   0.5     1.    300.4   400.5     0.97]\n",
      " [ 250.5   310.    700.4  1000.6     0.72]]\n"
     ]
    }
   ],
   "source": [
    "dets = np.array([\n",
    "    [11.5, 12.0, 311.4, 410.6, 0.85],\n",
    "    [0.5, 1.0, 300.4, 400.5, 0.97],\n",
    "    [200.5, 300.0, 700.4, 1000.6, 0.65],\n",
    "    [250.5, 310.0, 700.4, 1000.6, 0.72],\n",
    "])\n",
    "np.set_printoptions(suppress=True)\n",
    "print(\"before nms:\\n\", dets)\n",
    "keep = cpu_nms(dets, 0.5)\n",
    "print(\"after nms:\\n\", dets[keep])"
   ]
  },
  {
   "cell_type": "code",
   "execution_count": null,
   "metadata": {},
   "outputs": [],
   "source": []
  }
 ],
 "metadata": {
  "kernelspec": {
   "display_name": "Python 3",
   "language": "python",
   "name": "python3"
  },
  "language_info": {
   "codemirror_mode": {
    "name": "ipython",
    "version": 3
   },
   "file_extension": ".py",
   "mimetype": "text/x-python",
   "name": "python",
   "nbconvert_exporter": "python",
   "pygments_lexer": "ipython3",
   "version": "3.6.8"
  }
 },
 "nbformat": 4,
 "nbformat_minor": 4
}
